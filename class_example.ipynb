{
  "cells": [
    {
      "cell_type": "markdown",
      "metadata": {
        "id": "1bJKIim4rOZ4"
      },
      "source": [
        "# Class Example: Understanding Joins in Polars\n",
        "\n",
        "This notebook demonstrates how to perform joins in Polars with practical examples."
      ]
    },
    {
      "cell_type": "code",
      "execution_count": 1,
      "metadata": {
        "colab": {
          "base_uri": "https://localhost:8080/"
        },
        "id": "NCazpWCMrOZ5",
        "outputId": "79c8eab0-6edc-4460-fc30-118d20a021bf"
      },
      "outputs": [
        {
          "output_type": "stream",
          "name": "stdout",
          "text": [
            "Polars version: 1.25.2\n",
            "Setup complete! Let's explore joins.\n"
          ]
        }
      ],
      "source": [
        "# Import necessary libraries\n",
        "import polars as pl\n",
        "from datetime import date\n",
        "\n",
        "# Set display options for better readability\n",
        "pl.Config.set_tbl_rows(20)\n",
        "pl.Config.set_fmt_str_lengths(50)\n",
        "\n",
        "print(\"Polars version:\", pl.__version__)\n",
        "print(\"Setup complete! Let's explore joins.\")"
      ]
    },
    {
      "cell_type": "markdown",
      "metadata": {
        "id": "VSwlawEOrOZ5"
      },
      "source": [
        "## 1. Creating Sample Datasets\n",
        "\n",
        "Let's create realistic datasets to demonstrate joins. We'll simulate a retail business with customers, products, and orders."
      ]
    },
    {
      "cell_type": "code",
      "execution_count": 3,
      "metadata": {
        "colab": {
          "base_uri": "https://localhost:8080/",
          "height": 358
        },
        "id": "20NO944LrOZ5",
        "outputId": "c1155b92-97f6-4728-ceb2-d83d4be3027e"
      },
      "outputs": [
        {
          "output_type": "stream",
          "name": "stdout",
          "text": [
            "\n",
            "Primary Key: customer_id (unique identifier for each customer)\n",
            "Total customers: 6\n",
            "Customers Table:\n"
          ]
        },
        {
          "output_type": "execute_result",
          "data": {
            "text/plain": [
              "shape: (6, 5)\n",
              "┌─────────────┬───────────────┬───────────────────┬────────────┬───────────────┐\n",
              "│ customer_id ┆ name          ┆ email             ┆ join_date  ┆ customer_type │\n",
              "│ ---         ┆ ---           ┆ ---               ┆ ---        ┆ ---           │\n",
              "│ i64         ┆ str           ┆ str               ┆ date       ┆ str           │\n",
              "╞═════════════╪═══════════════╪═══════════════════╪════════════╪═══════════════╡\n",
              "│ 1           ┆ Alice Smith   ┆ alice@email.com   ┆ 2023-01-15 ┆ Premium       │\n",
              "│ 2           ┆ Bob Johnson   ┆ bob@email.com     ┆ 2023-02-20 ┆ Standard      │\n",
              "│ 3           ┆ Charlie Brown ┆ charlie@email.com ┆ 2023-03-10 ┆ Premium       │\n",
              "│ 4           ┆ Diana Ross    ┆ diana@email.com   ┆ 2023-04-05 ┆ Standard      │\n",
              "│ 5           ┆ Eve Davis     ┆ eve@email.com     ┆ 2023-05-12 ┆ Premium       │\n",
              "│ 6           ┆ Frank Miller  ┆ frank@email.com   ┆ 2023-06-30 ┆ Standard      │\n",
              "└─────────────┴───────────────┴───────────────────┴────────────┴───────────────┘"
            ],
            "text/html": [
              "<div><style>\n",
              ".dataframe > thead > tr,\n",
              ".dataframe > tbody > tr {\n",
              "  text-align: right;\n",
              "  white-space: pre-wrap;\n",
              "}\n",
              "</style>\n",
              "<small>shape: (6, 5)</small><table border=\"1\" class=\"dataframe\"><thead><tr><th>customer_id</th><th>name</th><th>email</th><th>join_date</th><th>customer_type</th></tr><tr><td>i64</td><td>str</td><td>str</td><td>date</td><td>str</td></tr></thead><tbody><tr><td>1</td><td>&quot;Alice Smith&quot;</td><td>&quot;alice@email.com&quot;</td><td>2023-01-15</td><td>&quot;Premium&quot;</td></tr><tr><td>2</td><td>&quot;Bob Johnson&quot;</td><td>&quot;bob@email.com&quot;</td><td>2023-02-20</td><td>&quot;Standard&quot;</td></tr><tr><td>3</td><td>&quot;Charlie Brown&quot;</td><td>&quot;charlie@email.com&quot;</td><td>2023-03-10</td><td>&quot;Premium&quot;</td></tr><tr><td>4</td><td>&quot;Diana Ross&quot;</td><td>&quot;diana@email.com&quot;</td><td>2023-04-05</td><td>&quot;Standard&quot;</td></tr><tr><td>5</td><td>&quot;Eve Davis&quot;</td><td>&quot;eve@email.com&quot;</td><td>2023-05-12</td><td>&quot;Premium&quot;</td></tr><tr><td>6</td><td>&quot;Frank Miller&quot;</td><td>&quot;frank@email.com&quot;</td><td>2023-06-30</td><td>&quot;Standard&quot;</td></tr></tbody></table></div>"
            ]
          },
          "metadata": {},
          "execution_count": 3
        }
      ],
      "source": [
        "# Create customers dataset\n",
        "customers = pl.DataFrame({\n",
        "    \"customer_id\": [1, 2, 3, 4, 5, 6],\n",
        "    \"name\": [\"Alice Smith\", \"Bob Johnson\", \"Charlie Brown\", \"Diana Ross\", \"Eve Davis\", \"Frank Miller\"],\n",
        "    \"email\": [\"alice@email.com\", \"bob@email.com\", \"charlie@email.com\",\n",
        "              \"diana@email.com\", \"eve@email.com\", \"frank@email.com\"],\n",
        "    \"join_date\": [date(2023, 1, 15), date(2023, 2, 20), date(2023, 3, 10),\n",
        "                  date(2023, 4, 5), date(2023, 5, 12), date(2023, 6, 30)],\n",
        "    \"customer_type\": [\"Premium\", \"Standard\", \"Premium\", \"Standard\", \"Premium\", \"Standard\"]\n",
        "})\n",
        "\n",
        "\n",
        "print(f\"\\nPrimary Key: customer_id (unique identifier for each customer)\")\n",
        "print(f\"Total customers: {len(customers)}\")\n",
        "print(\"Customers Table:\")\n",
        "customers"
      ]
    },
    {
      "cell_type": "code",
      "execution_count": 5,
      "metadata": {
        "colab": {
          "base_uri": "https://localhost:8080/",
          "height": 326
        },
        "id": "LwBlcaDOrOZ5",
        "outputId": "39c6c51c-14a0-44e9-9421-ecdf2b99fae2"
      },
      "outputs": [
        {
          "output_type": "stream",
          "name": "stdout",
          "text": [
            "\n",
            "Primary Key: product_id (unique identifier for each product)\n",
            "Total products: 5\n",
            "Products Table:\n"
          ]
        },
        {
          "output_type": "execute_result",
          "data": {
            "text/plain": [
              "shape: (5, 5)\n",
              "┌────────────┬──────────────┬─────────────┬────────┬────────────────┐\n",
              "│ product_id ┆ product_name ┆ category    ┆ price  ┆ stock_quantity │\n",
              "│ ---        ┆ ---          ┆ ---         ┆ ---    ┆ ---            │\n",
              "│ str        ┆ str          ┆ str         ┆ f64    ┆ i64            │\n",
              "╞════════════╪══════════════╪═════════════╪════════╪════════════════╡\n",
              "│ P001       ┆ Laptop       ┆ Electronics ┆ 1200.0 ┆ 50             │\n",
              "│ P002       ┆ Mouse        ┆ Accessories ┆ 25.0   ┆ 200            │\n",
              "│ P003       ┆ Keyboard     ┆ Accessories ┆ 80.0   ┆ 150            │\n",
              "│ P004       ┆ Monitor      ┆ Electronics ┆ 300.0  ┆ 75             │\n",
              "│ P005       ┆ Headphones   ┆ Accessories ┆ 150.0  ┆ 100            │\n",
              "└────────────┴──────────────┴─────────────┴────────┴────────────────┘"
            ],
            "text/html": [
              "<div><style>\n",
              ".dataframe > thead > tr,\n",
              ".dataframe > tbody > tr {\n",
              "  text-align: right;\n",
              "  white-space: pre-wrap;\n",
              "}\n",
              "</style>\n",
              "<small>shape: (5, 5)</small><table border=\"1\" class=\"dataframe\"><thead><tr><th>product_id</th><th>product_name</th><th>category</th><th>price</th><th>stock_quantity</th></tr><tr><td>str</td><td>str</td><td>str</td><td>f64</td><td>i64</td></tr></thead><tbody><tr><td>&quot;P001&quot;</td><td>&quot;Laptop&quot;</td><td>&quot;Electronics&quot;</td><td>1200.0</td><td>50</td></tr><tr><td>&quot;P002&quot;</td><td>&quot;Mouse&quot;</td><td>&quot;Accessories&quot;</td><td>25.0</td><td>200</td></tr><tr><td>&quot;P003&quot;</td><td>&quot;Keyboard&quot;</td><td>&quot;Accessories&quot;</td><td>80.0</td><td>150</td></tr><tr><td>&quot;P004&quot;</td><td>&quot;Monitor&quot;</td><td>&quot;Electronics&quot;</td><td>300.0</td><td>75</td></tr><tr><td>&quot;P005&quot;</td><td>&quot;Headphones&quot;</td><td>&quot;Accessories&quot;</td><td>150.0</td><td>100</td></tr></tbody></table></div>"
            ]
          },
          "metadata": {},
          "execution_count": 5
        }
      ],
      "source": [
        "# Create products dataset\n",
        "products = pl.DataFrame({\n",
        "    \"product_id\": [\"P001\", \"P002\", \"P003\", \"P004\", \"P005\"],\n",
        "    \"product_name\": [\"Laptop\", \"Mouse\", \"Keyboard\", \"Monitor\", \"Headphones\"],\n",
        "    \"category\": [\"Electronics\", \"Accessories\", \"Accessories\", \"Electronics\", \"Accessories\"],\n",
        "    \"price\": [1200.00, 25.00, 80.00, 300.00, 150.00],\n",
        "    \"stock_quantity\": [50, 200, 150, 75, 100]\n",
        "})\n",
        "\n",
        "\n",
        "print(f\"\\nPrimary Key: product_id (unique identifier for each product)\")\n",
        "print(f\"Total products: {len(products)}\")\n",
        "print(\"Products Table:\")\n",
        "products"
      ]
    },
    {
      "cell_type": "code",
      "execution_count": 6,
      "metadata": {
        "colab": {
          "base_uri": "https://localhost:8080/",
          "height": 519
        },
        "id": "zE9qakGPrOZ5",
        "outputId": "bc14786b-c919-434b-a5d1-234b6abba49d"
      },
      "outputs": [
        {
          "output_type": "stream",
          "name": "stdout",
          "text": [
            "\n",
            "Foreign Keys: customer_id (references customers), product_id (references products)\n",
            "Total orders: 10\n",
            "\n",
            "Note: This dataset intentionally includes problematic data for demonstration!\n",
            "Orders Table:\n"
          ]
        },
        {
          "output_type": "execute_result",
          "data": {
            "text/plain": [
              "shape: (10, 6)\n",
              "┌──────────┬─────────────┬────────────┬────────────┬──────────┬──────────────┐\n",
              "│ order_id ┆ customer_id ┆ product_id ┆ order_date ┆ quantity ┆ total_amount │\n",
              "│ ---      ┆ ---         ┆ ---        ┆ ---        ┆ ---      ┆ ---          │\n",
              "│ i64      ┆ i64         ┆ str        ┆ date       ┆ i64      ┆ f64          │\n",
              "╞══════════╪═════════════╪════════════╪════════════╪══════════╪══════════════╡\n",
              "│ 101      ┆ 1           ┆ P001       ┆ 2023-07-01 ┆ 1        ┆ 1200.0       │\n",
              "│ 102      ┆ 2           ┆ P002       ┆ 2023-07-02 ┆ 2        ┆ 50.0         │\n",
              "│ 103      ┆ 1           ┆ P003       ┆ 2023-07-03 ┆ 1        ┆ 80.0         │\n",
              "│ 104      ┆ 3           ┆ P001       ┆ 2023-07-04 ┆ 1        ┆ 1200.0       │\n",
              "│ 105      ┆ 4           ┆ P004       ┆ 2023-07-05 ┆ 2        ┆ 600.0        │\n",
              "│ 106      ┆ 2           ┆ P005       ┆ 2023-07-06 ┆ 1        ┆ 150.0        │\n",
              "│ 107      ┆ 5           ┆ P002       ┆ 2023-07-07 ┆ 3        ┆ 75.0         │\n",
              "│ 108      ┆ 1           ┆ P004       ┆ 2023-07-08 ┆ 1        ┆ 300.0        │\n",
              "│ 109      ┆ 3           ┆ P006       ┆ 2023-07-09 ┆ 1        ┆ 0.0          │\n",
              "│ 110      ┆ 7           ┆ P001       ┆ 2023-07-10 ┆ 1        ┆ 1200.0       │\n",
              "└──────────┴─────────────┴────────────┴────────────┴──────────┴──────────────┘"
            ],
            "text/html": [
              "<div><style>\n",
              ".dataframe > thead > tr,\n",
              ".dataframe > tbody > tr {\n",
              "  text-align: right;\n",
              "  white-space: pre-wrap;\n",
              "}\n",
              "</style>\n",
              "<small>shape: (10, 6)</small><table border=\"1\" class=\"dataframe\"><thead><tr><th>order_id</th><th>customer_id</th><th>product_id</th><th>order_date</th><th>quantity</th><th>total_amount</th></tr><tr><td>i64</td><td>i64</td><td>str</td><td>date</td><td>i64</td><td>f64</td></tr></thead><tbody><tr><td>101</td><td>1</td><td>&quot;P001&quot;</td><td>2023-07-01</td><td>1</td><td>1200.0</td></tr><tr><td>102</td><td>2</td><td>&quot;P002&quot;</td><td>2023-07-02</td><td>2</td><td>50.0</td></tr><tr><td>103</td><td>1</td><td>&quot;P003&quot;</td><td>2023-07-03</td><td>1</td><td>80.0</td></tr><tr><td>104</td><td>3</td><td>&quot;P001&quot;</td><td>2023-07-04</td><td>1</td><td>1200.0</td></tr><tr><td>105</td><td>4</td><td>&quot;P004&quot;</td><td>2023-07-05</td><td>2</td><td>600.0</td></tr><tr><td>106</td><td>2</td><td>&quot;P005&quot;</td><td>2023-07-06</td><td>1</td><td>150.0</td></tr><tr><td>107</td><td>5</td><td>&quot;P002&quot;</td><td>2023-07-07</td><td>3</td><td>75.0</td></tr><tr><td>108</td><td>1</td><td>&quot;P004&quot;</td><td>2023-07-08</td><td>1</td><td>300.0</td></tr><tr><td>109</td><td>3</td><td>&quot;P006&quot;</td><td>2023-07-09</td><td>1</td><td>0.0</td></tr><tr><td>110</td><td>7</td><td>&quot;P001&quot;</td><td>2023-07-10</td><td>1</td><td>1200.0</td></tr></tbody></table></div>"
            ]
          },
          "metadata": {},
          "execution_count": 6
        }
      ],
      "source": [
        "# Create orders dataset (notice the foreign keys)\n",
        "orders = pl.DataFrame({\n",
        "    \"order_id\": [101, 102, 103, 104, 105, 106, 107, 108, 109, 110],\n",
        "    \"customer_id\": [1, 2, 1, 3, 4, 2, 5, 1, 3, 7],  # Note: customer_id 7 doesn't exist!\n",
        "    \"product_id\": [\"P001\", \"P002\", \"P003\", \"P001\", \"P004\", \"P005\", \"P002\", \"P004\", \"P006\", \"P001\"],  # Note: P006 doesn't exist!\n",
        "    \"order_date\": [date(2023, 7, 1), date(2023, 7, 2), date(2023, 7, 3), date(2023, 7, 4),\n",
        "                   date(2023, 7, 5), date(2023, 7, 6), date(2023, 7, 7), date(2023, 7, 8),\n",
        "                   date(2023, 7, 9), date(2023, 7, 10)],\n",
        "    \"quantity\": [1, 2, 1, 1, 2, 1, 3, 1, 1, 1],\n",
        "    \"total_amount\": [1200.00, 50.00, 80.00, 1200.00, 600.00, 150.00, 75.00, 300.00, 0.00, 1200.00]\n",
        "})\n",
        "\n",
        "\n",
        "print(f\"\\nForeign Keys: customer_id (references customers), product_id (references products)\")\n",
        "print(f\"Total orders: {len(orders)}\")\n",
        "print(\"\\nNote: This dataset intentionally includes problematic data for demonstration!\")\n",
        "print(\"Orders Table:\")\n",
        "orders"
      ]
    },
    {
      "cell_type": "markdown",
      "metadata": {
        "id": "SnG5LQdJrOZ5"
      },
      "source": [
        "## 2. Understanding Join Keys\n",
        "\n",
        "Before joining, always examine your join keys!"
      ]
    },
    {
      "cell_type": "code",
      "execution_count": 7,
      "metadata": {
        "colab": {
          "base_uri": "https://localhost:8080/"
        },
        "id": "puW1FxldrOZ5",
        "outputId": "464848bb-86b9-424d-a121-8a8a7e3ef16c"
      },
      "outputs": [
        {
          "output_type": "stream",
          "name": "stdout",
          "text": [
            "Checking Primary Keys:\n",
            "Unique customer_ids: 6 (should equal 6)\n",
            "Unique product_ids: 5 (should equal 5)\n",
            "Unique order_ids: 10 (should equal 10)\n",
            "\n",
            "Checking Foreign Keys in Orders:\n",
            "Unique customer_ids in orders: 6\n",
            "Unique product_ids in orders: 6\n"
          ]
        }
      ],
      "source": [
        "# Check uniqueness of primary keys\n",
        "print(\"Checking Primary Keys:\")\n",
        "print(f\"Unique customer_ids: {customers['customer_id'].n_unique()} (should equal {len(customers)})\")\n",
        "print(f\"Unique product_ids: {products['product_id'].n_unique()} (should equal {len(products)})\")\n",
        "print(f\"Unique order_ids: {orders['order_id'].n_unique()} (should equal {len(orders)})\")\n",
        "\n",
        "print(\"\\nChecking Foreign Keys in Orders:\")\n",
        "print(f\"Unique customer_ids in orders: {orders['customer_id'].n_unique()}\")\n",
        "print(f\"Unique product_ids in orders: {orders['product_id'].n_unique()}\")"
      ]
    },
    {
      "cell_type": "code",
      "execution_count": 8,
      "metadata": {
        "colab": {
          "base_uri": "https://localhost:8080/"
        },
        "id": "tMoE2lm8rOZ5",
        "outputId": "eb7896bf-7e9b-4ab4-da18-aab53de5a06c"
      },
      "outputs": [
        {
          "output_type": "stream",
          "name": "stdout",
          "text": [
            "Checking for mismatched keys:\n",
            "\n",
            "Customer IDs in orders but not in customers table: {7}\n",
            "Product IDs in orders but not in products table: {'P006'}\n",
            "\n",
            "Customer IDs with no orders: {6}\n"
          ]
        }
      ],
      "source": [
        "# Identify problematic data\n",
        "print(\"Checking for mismatched keys:\")\n",
        "\n",
        "# Customer IDs in orders but not in customers\n",
        "orders_customer_ids = set(orders[\"customer_id\"].unique().to_list())\n",
        "customers_ids = set(customers[\"customer_id\"].unique().to_list())\n",
        "orphan_customers = orders_customer_ids - customers_ids\n",
        "print(f\"\\nCustomer IDs in orders but not in customers table: {orphan_customers}\")\n",
        "\n",
        "# Product IDs in orders but not in products\n",
        "orders_product_ids = set(orders[\"product_id\"].unique().to_list())\n",
        "products_ids = set(products[\"product_id\"].unique().to_list())\n",
        "orphan_products = orders_product_ids - products_ids\n",
        "print(f\"Product IDs in orders but not in products table: {orphan_products}\")\n",
        "\n",
        "# Customers with no orders\n",
        "customers_no_orders = customers_ids - orders_customer_ids\n",
        "print(f\"\\nCustomer IDs with no orders: {customers_no_orders}\")"
      ]
    },
    {
      "cell_type": "markdown",
      "metadata": {
        "id": "ryMeyb-FrOZ5"
      },
      "source": [
        "## 3. Inner Join Example\n",
        "\n",
        "Inner join returns only matching records from both tables."
      ]
    },
    {
      "cell_type": "code",
      "execution_count": 10,
      "metadata": {
        "colab": {
          "base_uri": "https://localhost:8080/",
          "height": 470
        },
        "id": "MBhTPOofrOZ5",
        "outputId": "d6a60c1c-7c30-4b02-febb-a7ed8760e9c5"
      },
      "outputs": [
        {
          "output_type": "stream",
          "name": "stdout",
          "text": [
            "\n",
            "Rows in result: 9\n",
            "Original orders: 10\n",
            "Lost rows: 1 (order with customer_id=7)\n",
            "Inner Join: Orders + Customers\n"
          ]
        },
        {
          "output_type": "execute_result",
          "data": {
            "text/plain": [
              "shape: (9, 10)\n",
              "┌──────────┬───────────┬───────────┬───────────┬───┬───────────┬───────────┬───────────┬───────────┐\n",
              "│ order_id ┆ customer_ ┆ product_i ┆ order_dat ┆ … ┆ name      ┆ email     ┆ join_date ┆ customer_ │\n",
              "│ ---      ┆ id        ┆ d         ┆ e         ┆   ┆ ---       ┆ ---       ┆ ---       ┆ type      │\n",
              "│ i64      ┆ ---       ┆ ---       ┆ ---       ┆   ┆ str       ┆ str       ┆ date      ┆ ---       │\n",
              "│          ┆ i64       ┆ str       ┆ date      ┆   ┆           ┆           ┆           ┆ str       │\n",
              "╞══════════╪═══════════╪═══════════╪═══════════╪═══╪═══════════╪═══════════╪═══════════╪═══════════╡\n",
              "│ 101      ┆ 1         ┆ P001      ┆ 2023-07-0 ┆ … ┆ Alice     ┆ alice@ema ┆ 2023-01-1 ┆ Premium   │\n",
              "│          ┆           ┆           ┆ 1         ┆   ┆ Smith     ┆ il.com    ┆ 5         ┆           │\n",
              "│ 102      ┆ 2         ┆ P002      ┆ 2023-07-0 ┆ … ┆ Bob       ┆ bob@email ┆ 2023-02-2 ┆ Standard  │\n",
              "│          ┆           ┆           ┆ 2         ┆   ┆ Johnson   ┆ .com      ┆ 0         ┆           │\n",
              "│ 103      ┆ 1         ┆ P003      ┆ 2023-07-0 ┆ … ┆ Alice     ┆ alice@ema ┆ 2023-01-1 ┆ Premium   │\n",
              "│          ┆           ┆           ┆ 3         ┆   ┆ Smith     ┆ il.com    ┆ 5         ┆           │\n",
              "│ 104      ┆ 3         ┆ P001      ┆ 2023-07-0 ┆ … ┆ Charlie   ┆ charlie@e ┆ 2023-03-1 ┆ Premium   │\n",
              "│          ┆           ┆           ┆ 4         ┆   ┆ Brown     ┆ mail.com  ┆ 0         ┆           │\n",
              "│ 105      ┆ 4         ┆ P004      ┆ 2023-07-0 ┆ … ┆ Diana     ┆ diana@ema ┆ 2023-04-0 ┆ Standard  │\n",
              "│          ┆           ┆           ┆ 5         ┆   ┆ Ross      ┆ il.com    ┆ 5         ┆           │\n",
              "│ 106      ┆ 2         ┆ P005      ┆ 2023-07-0 ┆ … ┆ Bob       ┆ bob@email ┆ 2023-02-2 ┆ Standard  │\n",
              "│          ┆           ┆           ┆ 6         ┆   ┆ Johnson   ┆ .com      ┆ 0         ┆           │\n",
              "│ 107      ┆ 5         ┆ P002      ┆ 2023-07-0 ┆ … ┆ Eve Davis ┆ eve@email ┆ 2023-05-1 ┆ Premium   │\n",
              "│          ┆           ┆           ┆ 7         ┆   ┆           ┆ .com      ┆ 2         ┆           │\n",
              "│ 108      ┆ 1         ┆ P004      ┆ 2023-07-0 ┆ … ┆ Alice     ┆ alice@ema ┆ 2023-01-1 ┆ Premium   │\n",
              "│          ┆           ┆           ┆ 8         ┆   ┆ Smith     ┆ il.com    ┆ 5         ┆           │\n",
              "│ 109      ┆ 3         ┆ P006      ┆ 2023-07-0 ┆ … ┆ Charlie   ┆ charlie@e ┆ 2023-03-1 ┆ Premium   │\n",
              "│          ┆           ┆           ┆ 9         ┆   ┆ Brown     ┆ mail.com  ┆ 0         ┆           │\n",
              "└──────────┴───────────┴───────────┴───────────┴───┴───────────┴───────────┴───────────┴───────────┘"
            ],
            "text/html": [
              "<div><style>\n",
              ".dataframe > thead > tr,\n",
              ".dataframe > tbody > tr {\n",
              "  text-align: right;\n",
              "  white-space: pre-wrap;\n",
              "}\n",
              "</style>\n",
              "<small>shape: (9, 10)</small><table border=\"1\" class=\"dataframe\"><thead><tr><th>order_id</th><th>customer_id</th><th>product_id</th><th>order_date</th><th>quantity</th><th>total_amount</th><th>name</th><th>email</th><th>join_date</th><th>customer_type</th></tr><tr><td>i64</td><td>i64</td><td>str</td><td>date</td><td>i64</td><td>f64</td><td>str</td><td>str</td><td>date</td><td>str</td></tr></thead><tbody><tr><td>101</td><td>1</td><td>&quot;P001&quot;</td><td>2023-07-01</td><td>1</td><td>1200.0</td><td>&quot;Alice Smith&quot;</td><td>&quot;alice@email.com&quot;</td><td>2023-01-15</td><td>&quot;Premium&quot;</td></tr><tr><td>102</td><td>2</td><td>&quot;P002&quot;</td><td>2023-07-02</td><td>2</td><td>50.0</td><td>&quot;Bob Johnson&quot;</td><td>&quot;bob@email.com&quot;</td><td>2023-02-20</td><td>&quot;Standard&quot;</td></tr><tr><td>103</td><td>1</td><td>&quot;P003&quot;</td><td>2023-07-03</td><td>1</td><td>80.0</td><td>&quot;Alice Smith&quot;</td><td>&quot;alice@email.com&quot;</td><td>2023-01-15</td><td>&quot;Premium&quot;</td></tr><tr><td>104</td><td>3</td><td>&quot;P001&quot;</td><td>2023-07-04</td><td>1</td><td>1200.0</td><td>&quot;Charlie Brown&quot;</td><td>&quot;charlie@email.com&quot;</td><td>2023-03-10</td><td>&quot;Premium&quot;</td></tr><tr><td>105</td><td>4</td><td>&quot;P004&quot;</td><td>2023-07-05</td><td>2</td><td>600.0</td><td>&quot;Diana Ross&quot;</td><td>&quot;diana@email.com&quot;</td><td>2023-04-05</td><td>&quot;Standard&quot;</td></tr><tr><td>106</td><td>2</td><td>&quot;P005&quot;</td><td>2023-07-06</td><td>1</td><td>150.0</td><td>&quot;Bob Johnson&quot;</td><td>&quot;bob@email.com&quot;</td><td>2023-02-20</td><td>&quot;Standard&quot;</td></tr><tr><td>107</td><td>5</td><td>&quot;P002&quot;</td><td>2023-07-07</td><td>3</td><td>75.0</td><td>&quot;Eve Davis&quot;</td><td>&quot;eve@email.com&quot;</td><td>2023-05-12</td><td>&quot;Premium&quot;</td></tr><tr><td>108</td><td>1</td><td>&quot;P004&quot;</td><td>2023-07-08</td><td>1</td><td>300.0</td><td>&quot;Alice Smith&quot;</td><td>&quot;alice@email.com&quot;</td><td>2023-01-15</td><td>&quot;Premium&quot;</td></tr><tr><td>109</td><td>3</td><td>&quot;P006&quot;</td><td>2023-07-09</td><td>1</td><td>0.0</td><td>&quot;Charlie Brown&quot;</td><td>&quot;charlie@email.com&quot;</td><td>2023-03-10</td><td>&quot;Premium&quot;</td></tr></tbody></table></div>"
            ]
          },
          "metadata": {},
          "execution_count": 10
        }
      ],
      "source": [
        "# Inner join: Orders with Customer information\n",
        "orders_with_customers_inner = orders.join(\n",
        "    customers,\n",
        "    on=\"customer_id\",\n",
        "    how=\"inner\"\n",
        ")\n",
        "\n",
        "\n",
        "print(f\"\\nRows in result: {len(orders_with_customers_inner)}\")\n",
        "print(f\"Original orders: {len(orders)}\")\n",
        "print(f\"Lost rows: {len(orders) - len(orders_with_customers_inner)} (order with customer_id=7)\")\n",
        "print(\"Inner Join: Orders + Customers\")\n",
        "orders_with_customers_inner"
      ]
    },
    {
      "cell_type": "code",
      "execution_count": null,
      "metadata": {
        "id": "_sxkcf0grOZ6"
      },
      "outputs": [],
      "source": [
        "# Which orders were excluded?\n",
        "excluded_orders = orders.filter(\n",
        "    ~pl.col(\"order_id\").is_in(orders_with_customers_inner[\"order_id\"])\n",
        ")\n",
        "print(\"Orders excluded by inner join:\")\n",
        "print(excluded_orders)"
      ]
    },
    {
      "cell_type": "markdown",
      "metadata": {
        "id": "A0ar8rrNrOZ6"
      },
      "source": [
        "## 4. Left Join Example\n",
        "\n",
        "Left join keeps all records from the left table, adding nulls where no match exists."
      ]
    },
    {
      "cell_type": "code",
      "execution_count": 11,
      "metadata": {
        "colab": {
          "base_uri": "https://localhost:8080/",
          "height": 501
        },
        "id": "kOPKS1YXrOZ6",
        "outputId": "0e416fc2-5d88-4e2b-dcf1-dbc78d32fb92"
      },
      "outputs": [
        {
          "output_type": "stream",
          "name": "stdout",
          "text": [
            "\n",
            "Rows in result: 10 (same as original orders)\n",
            "\n",
            "Notice the NULL values for customer_id=7!\n",
            "Left Join: Orders + Customers\n"
          ]
        },
        {
          "output_type": "execute_result",
          "data": {
            "text/plain": [
              "shape: (10, 10)\n",
              "┌──────────┬───────────┬───────────┬───────────┬───┬───────────┬───────────┬───────────┬───────────┐\n",
              "│ order_id ┆ customer_ ┆ product_i ┆ order_dat ┆ … ┆ name      ┆ email     ┆ join_date ┆ customer_ │\n",
              "│ ---      ┆ id        ┆ d         ┆ e         ┆   ┆ ---       ┆ ---       ┆ ---       ┆ type      │\n",
              "│ i64      ┆ ---       ┆ ---       ┆ ---       ┆   ┆ str       ┆ str       ┆ date      ┆ ---       │\n",
              "│          ┆ i64       ┆ str       ┆ date      ┆   ┆           ┆           ┆           ┆ str       │\n",
              "╞══════════╪═══════════╪═══════════╪═══════════╪═══╪═══════════╪═══════════╪═══════════╪═══════════╡\n",
              "│ 101      ┆ 1         ┆ P001      ┆ 2023-07-0 ┆ … ┆ Alice     ┆ alice@ema ┆ 2023-01-1 ┆ Premium   │\n",
              "│          ┆           ┆           ┆ 1         ┆   ┆ Smith     ┆ il.com    ┆ 5         ┆           │\n",
              "│ 102      ┆ 2         ┆ P002      ┆ 2023-07-0 ┆ … ┆ Bob       ┆ bob@email ┆ 2023-02-2 ┆ Standard  │\n",
              "│          ┆           ┆           ┆ 2         ┆   ┆ Johnson   ┆ .com      ┆ 0         ┆           │\n",
              "│ 103      ┆ 1         ┆ P003      ┆ 2023-07-0 ┆ … ┆ Alice     ┆ alice@ema ┆ 2023-01-1 ┆ Premium   │\n",
              "│          ┆           ┆           ┆ 3         ┆   ┆ Smith     ┆ il.com    ┆ 5         ┆           │\n",
              "│ 104      ┆ 3         ┆ P001      ┆ 2023-07-0 ┆ … ┆ Charlie   ┆ charlie@e ┆ 2023-03-1 ┆ Premium   │\n",
              "│          ┆           ┆           ┆ 4         ┆   ┆ Brown     ┆ mail.com  ┆ 0         ┆           │\n",
              "│ 105      ┆ 4         ┆ P004      ┆ 2023-07-0 ┆ … ┆ Diana     ┆ diana@ema ┆ 2023-04-0 ┆ Standard  │\n",
              "│          ┆           ┆           ┆ 5         ┆   ┆ Ross      ┆ il.com    ┆ 5         ┆           │\n",
              "│ 106      ┆ 2         ┆ P005      ┆ 2023-07-0 ┆ … ┆ Bob       ┆ bob@email ┆ 2023-02-2 ┆ Standard  │\n",
              "│          ┆           ┆           ┆ 6         ┆   ┆ Johnson   ┆ .com      ┆ 0         ┆           │\n",
              "│ 107      ┆ 5         ┆ P002      ┆ 2023-07-0 ┆ … ┆ Eve Davis ┆ eve@email ┆ 2023-05-1 ┆ Premium   │\n",
              "│          ┆           ┆           ┆ 7         ┆   ┆           ┆ .com      ┆ 2         ┆           │\n",
              "│ 108      ┆ 1         ┆ P004      ┆ 2023-07-0 ┆ … ┆ Alice     ┆ alice@ema ┆ 2023-01-1 ┆ Premium   │\n",
              "│          ┆           ┆           ┆ 8         ┆   ┆ Smith     ┆ il.com    ┆ 5         ┆           │\n",
              "│ 109      ┆ 3         ┆ P006      ┆ 2023-07-0 ┆ … ┆ Charlie   ┆ charlie@e ┆ 2023-03-1 ┆ Premium   │\n",
              "│          ┆           ┆           ┆ 9         ┆   ┆ Brown     ┆ mail.com  ┆ 0         ┆           │\n",
              "│ 110      ┆ 7         ┆ P001      ┆ 2023-07-1 ┆ … ┆ null      ┆ null      ┆ null      ┆ null      │\n",
              "│          ┆           ┆           ┆ 0         ┆   ┆           ┆           ┆           ┆           │\n",
              "└──────────┴───────────┴───────────┴───────────┴───┴───────────┴───────────┴───────────┴───────────┘"
            ],
            "text/html": [
              "<div><style>\n",
              ".dataframe > thead > tr,\n",
              ".dataframe > tbody > tr {\n",
              "  text-align: right;\n",
              "  white-space: pre-wrap;\n",
              "}\n",
              "</style>\n",
              "<small>shape: (10, 10)</small><table border=\"1\" class=\"dataframe\"><thead><tr><th>order_id</th><th>customer_id</th><th>product_id</th><th>order_date</th><th>quantity</th><th>total_amount</th><th>name</th><th>email</th><th>join_date</th><th>customer_type</th></tr><tr><td>i64</td><td>i64</td><td>str</td><td>date</td><td>i64</td><td>f64</td><td>str</td><td>str</td><td>date</td><td>str</td></tr></thead><tbody><tr><td>101</td><td>1</td><td>&quot;P001&quot;</td><td>2023-07-01</td><td>1</td><td>1200.0</td><td>&quot;Alice Smith&quot;</td><td>&quot;alice@email.com&quot;</td><td>2023-01-15</td><td>&quot;Premium&quot;</td></tr><tr><td>102</td><td>2</td><td>&quot;P002&quot;</td><td>2023-07-02</td><td>2</td><td>50.0</td><td>&quot;Bob Johnson&quot;</td><td>&quot;bob@email.com&quot;</td><td>2023-02-20</td><td>&quot;Standard&quot;</td></tr><tr><td>103</td><td>1</td><td>&quot;P003&quot;</td><td>2023-07-03</td><td>1</td><td>80.0</td><td>&quot;Alice Smith&quot;</td><td>&quot;alice@email.com&quot;</td><td>2023-01-15</td><td>&quot;Premium&quot;</td></tr><tr><td>104</td><td>3</td><td>&quot;P001&quot;</td><td>2023-07-04</td><td>1</td><td>1200.0</td><td>&quot;Charlie Brown&quot;</td><td>&quot;charlie@email.com&quot;</td><td>2023-03-10</td><td>&quot;Premium&quot;</td></tr><tr><td>105</td><td>4</td><td>&quot;P004&quot;</td><td>2023-07-05</td><td>2</td><td>600.0</td><td>&quot;Diana Ross&quot;</td><td>&quot;diana@email.com&quot;</td><td>2023-04-05</td><td>&quot;Standard&quot;</td></tr><tr><td>106</td><td>2</td><td>&quot;P005&quot;</td><td>2023-07-06</td><td>1</td><td>150.0</td><td>&quot;Bob Johnson&quot;</td><td>&quot;bob@email.com&quot;</td><td>2023-02-20</td><td>&quot;Standard&quot;</td></tr><tr><td>107</td><td>5</td><td>&quot;P002&quot;</td><td>2023-07-07</td><td>3</td><td>75.0</td><td>&quot;Eve Davis&quot;</td><td>&quot;eve@email.com&quot;</td><td>2023-05-12</td><td>&quot;Premium&quot;</td></tr><tr><td>108</td><td>1</td><td>&quot;P004&quot;</td><td>2023-07-08</td><td>1</td><td>300.0</td><td>&quot;Alice Smith&quot;</td><td>&quot;alice@email.com&quot;</td><td>2023-01-15</td><td>&quot;Premium&quot;</td></tr><tr><td>109</td><td>3</td><td>&quot;P006&quot;</td><td>2023-07-09</td><td>1</td><td>0.0</td><td>&quot;Charlie Brown&quot;</td><td>&quot;charlie@email.com&quot;</td><td>2023-03-10</td><td>&quot;Premium&quot;</td></tr><tr><td>110</td><td>7</td><td>&quot;P001&quot;</td><td>2023-07-10</td><td>1</td><td>1200.0</td><td>null</td><td>null</td><td>null</td><td>null</td></tr></tbody></table></div>"
            ]
          },
          "metadata": {},
          "execution_count": 11
        }
      ],
      "source": [
        "# Left join: Keep all orders, add customer info where available\n",
        "orders_with_customers_left = orders.join(\n",
        "    customers,\n",
        "    on=\"customer_id\",\n",
        "    how=\"left\"\n",
        ")\n",
        "\n",
        "\n",
        "print(f\"\\nRows in result: {len(orders_with_customers_left)} (same as original orders)\")\n",
        "print(\"\\nNotice the NULL values for customer_id=7!\")\n",
        "print(\"Left Join: Orders + Customers\")\n",
        "orders_with_customers_left"
      ]
    },
    {
      "cell_type": "code",
      "execution_count": null,
      "metadata": {
        "id": "ajL60weurOZ6"
      },
      "outputs": [],
      "source": [
        "# Find orders with no matching customer\n",
        "orders_no_customer = orders_with_customers_left.filter(\n",
        "    pl.col(\"name\").is_null()\n",
        ")\n",
        "print(\"Orders with no matching customer (after left join):\")\n",
        "orders_no_customer"
      ]
    },
    {
      "cell_type": "code",
      "execution_count": null,
      "metadata": {
        "id": "7s_F4LWMrOZ6"
      },
      "outputs": [],
      "source": [
        "# Create a customer preferences table with duplicate customer_ids\n",
        "customer_preferences = pl.DataFrame({\n",
        "    \"customer_id\": [1, 1, 2, 3, 3, 3],  # Duplicates!\n",
        "    \"preference_type\": [\"email\", \"sms\", \"email\", \"email\", \"sms\", \"phone\"],\n",
        "    \"preference_value\": [\"weekly\", \"never\", \"daily\", \"weekly\", \"daily\", \"weekly\"]\n",
        "})\n",
        "\n",
        "print(\"Customer Preferences (with duplicates):\")\n",
        "print(customer_preferences)\n",
        "print(f\"\\nNotice customer_id appears multiple times!\")"
      ]
    },
    {
      "cell_type": "code",
      "source": [
        "# customers table w/ duplicate \"Primary\" keys\n",
        "customers_dups = pl.DataFrame({\n",
        "    \"customer_id\": [1, 1, 2, 3, 4, 5, 6],\n",
        "    \"name\": [\"Alice Smith\", \"Alice Smith\", \"Bob Johnson\", \"Charlie Brown\", \"Diana Ross\", \"Eve Davis\", \"Frank Miller\"],\n",
        "    \"email\": [\"alice@email.com\", \"alice@email.com\", \"bob@email.com\", \"charlie@email.com\",\n",
        "              \"diana@email.com\", \"eve@email.com\", \"frank@email.com\"],\n",
        "    \"join_date\": [date(2023, 1, 15), date(2023, 1, 15), date(2023, 2, 20), date(2023, 3, 10),\n",
        "                  date(2023, 4, 5), date(2023, 5, 12), date(2023, 6, 30)],\n",
        "    \"customer_type\": [\"Premium\", \"Premium\", \"Standard\", \"Premium\", \"Standard\", \"Premium\", \"Standard\"]\n",
        "})\n",
        "customers_dups\n"
      ],
      "metadata": {
        "colab": {
          "base_uri": "https://localhost:8080/",
          "height": 318
        },
        "id": "K2Hx75kyvnQA",
        "outputId": "49cb44a6-1d91-4684-db31-345dc5af7433"
      },
      "execution_count": 18,
      "outputs": [
        {
          "output_type": "execute_result",
          "data": {
            "text/plain": [
              "shape: (7, 5)\n",
              "┌─────────────┬───────────────┬───────────────────┬────────────┬───────────────┐\n",
              "│ customer_id ┆ name          ┆ email             ┆ join_date  ┆ customer_type │\n",
              "│ ---         ┆ ---           ┆ ---               ┆ ---        ┆ ---           │\n",
              "│ i64         ┆ str           ┆ str               ┆ date       ┆ str           │\n",
              "╞═════════════╪═══════════════╪═══════════════════╪════════════╪═══════════════╡\n",
              "│ 1           ┆ Alice Smith   ┆ alice@email.com   ┆ 2023-01-15 ┆ Premium       │\n",
              "│ 1           ┆ Alice Smith   ┆ alice@email.com   ┆ 2023-01-15 ┆ Premium       │\n",
              "│ 2           ┆ Bob Johnson   ┆ bob@email.com     ┆ 2023-02-20 ┆ Standard      │\n",
              "│ 3           ┆ Charlie Brown ┆ charlie@email.com ┆ 2023-03-10 ┆ Premium       │\n",
              "│ 4           ┆ Diana Ross    ┆ diana@email.com   ┆ 2023-04-05 ┆ Standard      │\n",
              "│ 5           ┆ Eve Davis     ┆ eve@email.com     ┆ 2023-05-12 ┆ Premium       │\n",
              "│ 6           ┆ Frank Miller  ┆ frank@email.com   ┆ 2023-06-30 ┆ Standard      │\n",
              "└─────────────┴───────────────┴───────────────────┴────────────┴───────────────┘"
            ],
            "text/html": [
              "<div><style>\n",
              ".dataframe > thead > tr,\n",
              ".dataframe > tbody > tr {\n",
              "  text-align: right;\n",
              "  white-space: pre-wrap;\n",
              "}\n",
              "</style>\n",
              "<small>shape: (7, 5)</small><table border=\"1\" class=\"dataframe\"><thead><tr><th>customer_id</th><th>name</th><th>email</th><th>join_date</th><th>customer_type</th></tr><tr><td>i64</td><td>str</td><td>str</td><td>date</td><td>str</td></tr></thead><tbody><tr><td>1</td><td>&quot;Alice Smith&quot;</td><td>&quot;alice@email.com&quot;</td><td>2023-01-15</td><td>&quot;Premium&quot;</td></tr><tr><td>1</td><td>&quot;Alice Smith&quot;</td><td>&quot;alice@email.com&quot;</td><td>2023-01-15</td><td>&quot;Premium&quot;</td></tr><tr><td>2</td><td>&quot;Bob Johnson&quot;</td><td>&quot;bob@email.com&quot;</td><td>2023-02-20</td><td>&quot;Standard&quot;</td></tr><tr><td>3</td><td>&quot;Charlie Brown&quot;</td><td>&quot;charlie@email.com&quot;</td><td>2023-03-10</td><td>&quot;Premium&quot;</td></tr><tr><td>4</td><td>&quot;Diana Ross&quot;</td><td>&quot;diana@email.com&quot;</td><td>2023-04-05</td><td>&quot;Standard&quot;</td></tr><tr><td>5</td><td>&quot;Eve Davis&quot;</td><td>&quot;eve@email.com&quot;</td><td>2023-05-12</td><td>&quot;Premium&quot;</td></tr><tr><td>6</td><td>&quot;Frank Miller&quot;</td><td>&quot;frank@email.com&quot;</td><td>2023-06-30</td><td>&quot;Standard&quot;</td></tr></tbody></table></div>"
            ]
          },
          "metadata": {},
          "execution_count": 18
        }
      ]
    },
    {
      "cell_type": "code",
      "source": [
        "# Inner join customers_dups with orders\n",
        "customers_dups_with_orders = customers_dups.join(\n",
        "    orders,\n",
        "    on=\"customer_id\",\n",
        "    how=\"inner\"\n",
        ")\n",
        "\n",
        "# Notice the row explosion here!\n",
        "print(f\"\\nRows in result: {len(customers_dups_with_orders)}\")\n",
        "print(f\"Original customers_dups: {len(customers_dups)}\")\n",
        "print(f\"Original orders: {len(orders)}\")\n",
        "print(\"Customers (with duplicates) joined with Orders (Inner Join):\")\n",
        "customers_dups_with_orders"
      ],
      "metadata": {
        "colab": {
          "base_uri": "https://localhost:8080/",
          "height": 595
        },
        "id": "kaBxB0TfwOz7",
        "outputId": "fe8d96e2-f04c-463a-d211-2cee4036136d"
      },
      "execution_count": 21,
      "outputs": [
        {
          "output_type": "stream",
          "name": "stdout",
          "text": [
            "\n",
            "Rows in result: 13\n",
            "Original customers_dups: 7\n",
            "Original orders: 10\n",
            "Customers (with duplicates) joined with Orders (Inner Join):\n"
          ]
        },
        {
          "output_type": "execute_result",
          "data": {
            "text/plain": [
              "shape: (13, 10)\n",
              "┌───────────┬───────────┬───────────┬───────────┬───┬───────────┬───────────┬──────────┬───────────┐\n",
              "│ customer_ ┆ name      ┆ email     ┆ join_date ┆ … ┆ product_i ┆ order_dat ┆ quantity ┆ total_amo │\n",
              "│ id        ┆ ---       ┆ ---       ┆ ---       ┆   ┆ d         ┆ e         ┆ ---      ┆ unt       │\n",
              "│ ---       ┆ str       ┆ str       ┆ date      ┆   ┆ ---       ┆ ---       ┆ i64      ┆ ---       │\n",
              "│ i64       ┆           ┆           ┆           ┆   ┆ str       ┆ date      ┆          ┆ f64       │\n",
              "╞═══════════╪═══════════╪═══════════╪═══════════╪═══╪═══════════╪═══════════╪══════════╪═══════════╡\n",
              "│ 1         ┆ Alice     ┆ alice@ema ┆ 2023-01-1 ┆ … ┆ P001      ┆ 2023-07-0 ┆ 1        ┆ 1200.0    │\n",
              "│           ┆ Smith     ┆ il.com    ┆ 5         ┆   ┆           ┆ 1         ┆          ┆           │\n",
              "│ 1         ┆ Alice     ┆ alice@ema ┆ 2023-01-1 ┆ … ┆ P003      ┆ 2023-07-0 ┆ 1        ┆ 80.0      │\n",
              "│           ┆ Smith     ┆ il.com    ┆ 5         ┆   ┆           ┆ 3         ┆          ┆           │\n",
              "│ 1         ┆ Alice     ┆ alice@ema ┆ 2023-01-1 ┆ … ┆ P004      ┆ 2023-07-0 ┆ 1        ┆ 300.0     │\n",
              "│           ┆ Smith     ┆ il.com    ┆ 5         ┆   ┆           ┆ 8         ┆          ┆           │\n",
              "│ 1         ┆ Alice     ┆ alice@ema ┆ 2023-01-1 ┆ … ┆ P001      ┆ 2023-07-0 ┆ 1        ┆ 1200.0    │\n",
              "│           ┆ Smith     ┆ il.com    ┆ 5         ┆   ┆           ┆ 1         ┆          ┆           │\n",
              "│ 1         ┆ Alice     ┆ alice@ema ┆ 2023-01-1 ┆ … ┆ P003      ┆ 2023-07-0 ┆ 1        ┆ 80.0      │\n",
              "│           ┆ Smith     ┆ il.com    ┆ 5         ┆   ┆           ┆ 3         ┆          ┆           │\n",
              "│ 1         ┆ Alice     ┆ alice@ema ┆ 2023-01-1 ┆ … ┆ P004      ┆ 2023-07-0 ┆ 1        ┆ 300.0     │\n",
              "│           ┆ Smith     ┆ il.com    ┆ 5         ┆   ┆           ┆ 8         ┆          ┆           │\n",
              "│ 2         ┆ Bob       ┆ bob@email ┆ 2023-02-2 ┆ … ┆ P002      ┆ 2023-07-0 ┆ 2        ┆ 50.0      │\n",
              "│           ┆ Johnson   ┆ .com      ┆ 0         ┆   ┆           ┆ 2         ┆          ┆           │\n",
              "│ 2         ┆ Bob       ┆ bob@email ┆ 2023-02-2 ┆ … ┆ P005      ┆ 2023-07-0 ┆ 1        ┆ 150.0     │\n",
              "│           ┆ Johnson   ┆ .com      ┆ 0         ┆   ┆           ┆ 6         ┆          ┆           │\n",
              "│ 3         ┆ Charlie   ┆ charlie@e ┆ 2023-03-1 ┆ … ┆ P001      ┆ 2023-07-0 ┆ 1        ┆ 1200.0    │\n",
              "│           ┆ Brown     ┆ mail.com  ┆ 0         ┆   ┆           ┆ 4         ┆          ┆           │\n",
              "│ 3         ┆ Charlie   ┆ charlie@e ┆ 2023-03-1 ┆ … ┆ P006      ┆ 2023-07-0 ┆ 1        ┆ 0.0       │\n",
              "│           ┆ Brown     ┆ mail.com  ┆ 0         ┆   ┆           ┆ 9         ┆          ┆           │\n",
              "│ 4         ┆ Diana     ┆ diana@ema ┆ 2023-04-0 ┆ … ┆ P004      ┆ 2023-07-0 ┆ 2        ┆ 600.0     │\n",
              "│           ┆ Ross      ┆ il.com    ┆ 5         ┆   ┆           ┆ 5         ┆          ┆           │\n",
              "│ 5         ┆ Eve Davis ┆ eve@email ┆ 2023-05-1 ┆ … ┆ P002      ┆ 2023-07-0 ┆ 3        ┆ 75.0      │\n",
              "│           ┆           ┆ .com      ┆ 2         ┆   ┆           ┆ 7         ┆          ┆           │\n",
              "│ 6         ┆ Frank     ┆ frank@ema ┆ 2023-06-3 ┆ … ┆ null      ┆ null      ┆ null     ┆ null      │\n",
              "│           ┆ Miller    ┆ il.com    ┆ 0         ┆   ┆           ┆           ┆          ┆           │\n",
              "└───────────┴───────────┴───────────┴───────────┴───┴───────────┴───────────┴──────────┴───────────┘"
            ],
            "text/html": [
              "<div><style>\n",
              ".dataframe > thead > tr,\n",
              ".dataframe > tbody > tr {\n",
              "  text-align: right;\n",
              "  white-space: pre-wrap;\n",
              "}\n",
              "</style>\n",
              "<small>shape: (13, 10)</small><table border=\"1\" class=\"dataframe\"><thead><tr><th>customer_id</th><th>name</th><th>email</th><th>join_date</th><th>customer_type</th><th>order_id</th><th>product_id</th><th>order_date</th><th>quantity</th><th>total_amount</th></tr><tr><td>i64</td><td>str</td><td>str</td><td>date</td><td>str</td><td>i64</td><td>str</td><td>date</td><td>i64</td><td>f64</td></tr></thead><tbody><tr><td>1</td><td>&quot;Alice Smith&quot;</td><td>&quot;alice@email.com&quot;</td><td>2023-01-15</td><td>&quot;Premium&quot;</td><td>101</td><td>&quot;P001&quot;</td><td>2023-07-01</td><td>1</td><td>1200.0</td></tr><tr><td>1</td><td>&quot;Alice Smith&quot;</td><td>&quot;alice@email.com&quot;</td><td>2023-01-15</td><td>&quot;Premium&quot;</td><td>103</td><td>&quot;P003&quot;</td><td>2023-07-03</td><td>1</td><td>80.0</td></tr><tr><td>1</td><td>&quot;Alice Smith&quot;</td><td>&quot;alice@email.com&quot;</td><td>2023-01-15</td><td>&quot;Premium&quot;</td><td>108</td><td>&quot;P004&quot;</td><td>2023-07-08</td><td>1</td><td>300.0</td></tr><tr><td>1</td><td>&quot;Alice Smith&quot;</td><td>&quot;alice@email.com&quot;</td><td>2023-01-15</td><td>&quot;Premium&quot;</td><td>101</td><td>&quot;P001&quot;</td><td>2023-07-01</td><td>1</td><td>1200.0</td></tr><tr><td>1</td><td>&quot;Alice Smith&quot;</td><td>&quot;alice@email.com&quot;</td><td>2023-01-15</td><td>&quot;Premium&quot;</td><td>103</td><td>&quot;P003&quot;</td><td>2023-07-03</td><td>1</td><td>80.0</td></tr><tr><td>1</td><td>&quot;Alice Smith&quot;</td><td>&quot;alice@email.com&quot;</td><td>2023-01-15</td><td>&quot;Premium&quot;</td><td>108</td><td>&quot;P004&quot;</td><td>2023-07-08</td><td>1</td><td>300.0</td></tr><tr><td>2</td><td>&quot;Bob Johnson&quot;</td><td>&quot;bob@email.com&quot;</td><td>2023-02-20</td><td>&quot;Standard&quot;</td><td>102</td><td>&quot;P002&quot;</td><td>2023-07-02</td><td>2</td><td>50.0</td></tr><tr><td>2</td><td>&quot;Bob Johnson&quot;</td><td>&quot;bob@email.com&quot;</td><td>2023-02-20</td><td>&quot;Standard&quot;</td><td>106</td><td>&quot;P005&quot;</td><td>2023-07-06</td><td>1</td><td>150.0</td></tr><tr><td>3</td><td>&quot;Charlie Brown&quot;</td><td>&quot;charlie@email.com&quot;</td><td>2023-03-10</td><td>&quot;Premium&quot;</td><td>104</td><td>&quot;P001&quot;</td><td>2023-07-04</td><td>1</td><td>1200.0</td></tr><tr><td>3</td><td>&quot;Charlie Brown&quot;</td><td>&quot;charlie@email.com&quot;</td><td>2023-03-10</td><td>&quot;Premium&quot;</td><td>109</td><td>&quot;P006&quot;</td><td>2023-07-09</td><td>1</td><td>0.0</td></tr><tr><td>4</td><td>&quot;Diana Ross&quot;</td><td>&quot;diana@email.com&quot;</td><td>2023-04-05</td><td>&quot;Standard&quot;</td><td>105</td><td>&quot;P004&quot;</td><td>2023-07-05</td><td>2</td><td>600.0</td></tr><tr><td>5</td><td>&quot;Eve Davis&quot;</td><td>&quot;eve@email.com&quot;</td><td>2023-05-12</td><td>&quot;Premium&quot;</td><td>107</td><td>&quot;P002&quot;</td><td>2023-07-07</td><td>3</td><td>75.0</td></tr><tr><td>6</td><td>&quot;Frank Miller&quot;</td><td>&quot;frank@email.com&quot;</td><td>2023-06-30</td><td>&quot;Standard&quot;</td><td>null</td><td>null</td><td>null</td><td>null</td><td>null</td></tr></tbody></table></div>"
            ]
          },
          "metadata": {},
          "execution_count": 21
        }
      ]
    },
    {
      "cell_type": "code",
      "source": [
        "#compare to original orders table\n",
        "orders"
      ],
      "metadata": {
        "id": "8Cpw8JMzwcsV",
        "outputId": "19ba40d8-8905-4f52-d1e1-1442ef157c14",
        "colab": {
          "base_uri": "https://localhost:8080/",
          "height": 412
        }
      },
      "execution_count": 20,
      "outputs": [
        {
          "output_type": "execute_result",
          "data": {
            "text/plain": [
              "shape: (10, 6)\n",
              "┌──────────┬─────────────┬────────────┬────────────┬──────────┬──────────────┐\n",
              "│ order_id ┆ customer_id ┆ product_id ┆ order_date ┆ quantity ┆ total_amount │\n",
              "│ ---      ┆ ---         ┆ ---        ┆ ---        ┆ ---      ┆ ---          │\n",
              "│ i64      ┆ i64         ┆ str        ┆ date       ┆ i64      ┆ f64          │\n",
              "╞══════════╪═════════════╪════════════╪════════════╪══════════╪══════════════╡\n",
              "│ 101      ┆ 1           ┆ P001       ┆ 2023-07-01 ┆ 1        ┆ 1200.0       │\n",
              "│ 102      ┆ 2           ┆ P002       ┆ 2023-07-02 ┆ 2        ┆ 50.0         │\n",
              "│ 103      ┆ 1           ┆ P003       ┆ 2023-07-03 ┆ 1        ┆ 80.0         │\n",
              "│ 104      ┆ 3           ┆ P001       ┆ 2023-07-04 ┆ 1        ┆ 1200.0       │\n",
              "│ 105      ┆ 4           ┆ P004       ┆ 2023-07-05 ┆ 2        ┆ 600.0        │\n",
              "│ 106      ┆ 2           ┆ P005       ┆ 2023-07-06 ┆ 1        ┆ 150.0        │\n",
              "│ 107      ┆ 5           ┆ P002       ┆ 2023-07-07 ┆ 3        ┆ 75.0         │\n",
              "│ 108      ┆ 1           ┆ P004       ┆ 2023-07-08 ┆ 1        ┆ 300.0        │\n",
              "│ 109      ┆ 3           ┆ P006       ┆ 2023-07-09 ┆ 1        ┆ 0.0          │\n",
              "│ 110      ┆ 7           ┆ P001       ┆ 2023-07-10 ┆ 1        ┆ 1200.0       │\n",
              "└──────────┴─────────────┴────────────┴────────────┴──────────┴──────────────┘"
            ],
            "text/html": [
              "<div><style>\n",
              ".dataframe > thead > tr,\n",
              ".dataframe > tbody > tr {\n",
              "  text-align: right;\n",
              "  white-space: pre-wrap;\n",
              "}\n",
              "</style>\n",
              "<small>shape: (10, 6)</small><table border=\"1\" class=\"dataframe\"><thead><tr><th>order_id</th><th>customer_id</th><th>product_id</th><th>order_date</th><th>quantity</th><th>total_amount</th></tr><tr><td>i64</td><td>i64</td><td>str</td><td>date</td><td>i64</td><td>f64</td></tr></thead><tbody><tr><td>101</td><td>1</td><td>&quot;P001&quot;</td><td>2023-07-01</td><td>1</td><td>1200.0</td></tr><tr><td>102</td><td>2</td><td>&quot;P002&quot;</td><td>2023-07-02</td><td>2</td><td>50.0</td></tr><tr><td>103</td><td>1</td><td>&quot;P003&quot;</td><td>2023-07-03</td><td>1</td><td>80.0</td></tr><tr><td>104</td><td>3</td><td>&quot;P001&quot;</td><td>2023-07-04</td><td>1</td><td>1200.0</td></tr><tr><td>105</td><td>4</td><td>&quot;P004&quot;</td><td>2023-07-05</td><td>2</td><td>600.0</td></tr><tr><td>106</td><td>2</td><td>&quot;P005&quot;</td><td>2023-07-06</td><td>1</td><td>150.0</td></tr><tr><td>107</td><td>5</td><td>&quot;P002&quot;</td><td>2023-07-07</td><td>3</td><td>75.0</td></tr><tr><td>108</td><td>1</td><td>&quot;P004&quot;</td><td>2023-07-08</td><td>1</td><td>300.0</td></tr><tr><td>109</td><td>3</td><td>&quot;P006&quot;</td><td>2023-07-09</td><td>1</td><td>0.0</td></tr><tr><td>110</td><td>7</td><td>&quot;P001&quot;</td><td>2023-07-10</td><td>1</td><td>1200.0</td></tr></tbody></table></div>"
            ]
          },
          "metadata": {},
          "execution_count": 20
        }
      ]
    },
    {
      "cell_type": "markdown",
      "metadata": {
        "id": "PPiaBIuJrOZ6"
      },
      "source": [
        "## 8. Multiple Joins\n",
        "\n",
        "Often you need to join multiple tables to get complete information."
      ]
    },
    {
      "cell_type": "code",
      "execution_count": null,
      "metadata": {
        "id": "DiZ4q3DTrOZ6"
      },
      "outputs": [],
      "source": [
        "# Complete order information: Orders + Customers + Products\n",
        "complete_orders = (\n",
        "    orders\n",
        "    .join(customers, on=\"customer_id\", how=\"left\")\n",
        "    .join(products, on=\"product_id\", how=\"left\")\n",
        "    .select([\n",
        "        pl.col(\"order_id\"),\n",
        "        pl.col(\"order_date\"),\n",
        "        pl.col(\"customer_id\"),\n",
        "        pl.col(\"name\").alias(\"customer_name\"),\n",
        "        pl.col(\"customer_type\"),\n",
        "        pl.col(\"product_id\"),\n",
        "        pl.col(\"product_name\"),\n",
        "        pl.col(\"category\"),\n",
        "        pl.col(\"quantity\"),\n",
        "        pl.col(\"price\"),\n",
        "        pl.col(\"total_amount\")\n",
        "    ])\n",
        ")\n",
        "\n",
        "print(\"Complete Order Information (Multiple Joins):\")\n",
        "print(complete_orders)\n",
        "print(f\"\\nNotice the NULL values where customer_id=7 or product_id='P006'\")"
      ]
    },
    {
      "cell_type": "markdown",
      "metadata": {
        "id": "niOrSzfrrOZ6"
      },
      "source": [
        "## 9. Validating Joins\n",
        "\n",
        "Always validate your joins to ensure correctness!"
      ]
    },
    {
      "cell_type": "code",
      "execution_count": null,
      "metadata": {
        "id": "A_cqe7TwrOZ6"
      },
      "outputs": [],
      "source": [
        "# Validation checks\n",
        "print(\"Join Validation:\")\n",
        "print(f\"Original orders: {len(orders)}\")\n",
        "print(f\"After joins: {len(complete_orders)}\")\n",
        "print(f\"Rows match: {len(orders) == len(complete_orders)}\")\n",
        "\n",
        "# Check for data quality issues\n",
        "print(\"\\nData Quality Issues:\")\n",
        "missing_customers = complete_orders.filter(pl.col(\"customer_name\").is_null()).select(\"order_id\", \"customer_id\")\n",
        "print(f\"Orders with missing customer info: {len(missing_customers)}\")\n",
        "if len(missing_customers) > 0:\n",
        "    print(missing_customers)\n",
        "\n",
        "missing_products = complete_orders.filter(pl.col(\"product_name\").is_null()).select(\"order_id\", \"product_id\")\n",
        "print(f\"\\nOrders with missing product info: {len(missing_products)}\")\n",
        "if len(missing_products) > 0:\n",
        "    print(missing_products)"
      ]
    },
    {
      "cell_type": "markdown",
      "metadata": {
        "id": "C7zJheM0rOZ6"
      },
      "source": [
        "## 10. Business Analysis with Joins\n",
        "\n",
        "Now let's use joins to answer business questions."
      ]
    },
    {
      "cell_type": "code",
      "execution_count": null,
      "metadata": {
        "id": "FYcwxyFNrOZ6"
      },
      "outputs": [],
      "source": [
        "# Question 1: What is the total revenue by customer type?\n",
        "revenue_by_type = (\n",
        "    orders\n",
        "    .join(customers, on=\"customer_id\", how=\"inner\")\n",
        "    .group_by(\"customer_type\")\n",
        "    .agg([\n",
        "        pl.col(\"total_amount\").sum().alias(\"total_revenue\"),\n",
        "        pl.len().alias(\"order_count\"),\n",
        "        pl.col(\"customer_id\").n_unique().alias(\"unique_customers\")\n",
        "    ])\n",
        "    .sort(\"total_revenue\", descending=True)\n",
        ")\n",
        "\n",
        "print(\"Revenue by Customer Type:\")\n",
        "print(revenue_by_type)"
      ]
    },
    {
      "cell_type": "code",
      "execution_count": null,
      "metadata": {
        "id": "dzCeTweqrOZ6"
      },
      "outputs": [],
      "source": [
        "# Question 2: Which products are ordered most by Premium customers?\n",
        "premium_product_analysis = (\n",
        "    orders\n",
        "    .join(customers.filter(pl.col(\"customer_type\") == \"Premium\"), on=\"customer_id\", how=\"inner\")\n",
        "    .join(products, on=\"product_id\", how=\"inner\")\n",
        "    .group_by([\"product_name\", \"category\"])\n",
        "    .agg([\n",
        "        pl.col(\"quantity\").sum().alias(\"total_quantity\"),\n",
        "        pl.len().alias(\"order_count\"),\n",
        "        pl.col(\"total_amount\").sum().alias(\"revenue\")\n",
        "    ])\n",
        "    .sort(\"revenue\", descending=True)\n",
        ")\n",
        "\n",
        "print(\"Products Popular with Premium Customers:\")\n",
        "print(premium_product_analysis)"
      ]
    },
    {
      "cell_type": "code",
      "execution_count": null,
      "metadata": {
        "id": "-fvo8MuhrOZ6"
      },
      "outputs": [],
      "source": [
        "# Question 3: Customer purchase summary (including those with no purchases)\n",
        "customer_summary = (\n",
        "    customers\n",
        "    .join(orders, on=\"customer_id\", how=\"left\")\n",
        "    .group_by([\"customer_id\", \"name\", \"customer_type\", \"join_date\"])\n",
        "    .agg([\n",
        "        pl.col(\"order_id\").count().alias(\"total_orders\"),\n",
        "        pl.col(\"total_amount\").sum().alias(\"total_spent\"),\n",
        "        pl.col(\"order_date\").min().alias(\"first_order\"),\n",
        "        pl.col(\"order_date\").max().alias(\"last_order\")\n",
        "    ])\n",
        "    .with_columns([\n",
        "        # Fill nulls for customers with no orders\n",
        "        pl.col(\"total_spent\").fill_null(0),\n",
        "        pl.col(\"total_orders\").fill_null(0)\n",
        "    ])\n",
        "    .sort(\"total_spent\", descending=True)\n",
        ")\n",
        "\n",
        "print(\"Customer Purchase Summary (including non-purchasers):\")\n",
        "print(customer_summary)"
      ]
    },
    {
      "cell_type": "markdown",
      "metadata": {
        "id": "ZGW61z-vrOZ6"
      },
      "source": [
        "## Summary\n",
        "\n",
        "Key takeaways from this lesson:\n",
        "\n",
        "1. **Always validate your join keys** before joining\n",
        "2. **Choose the correct join type** based on your business needs\n",
        "3. **Watch out for duplicate keys** that can cause row explosion\n",
        "4. **Check row counts** after joins to ensure correctness\n",
        "5. **Handle NULL values** appropriately in your analysis\n",
        "\n",
        "Practice these concepts in the lab exercise!"
      ]
    }
  ],
  "metadata": {
    "kernelspec": {
      "display_name": "Python 3",
      "language": "python",
      "name": "python3"
    },
    "language_info": {
      "codemirror_mode": {
        "name": "ipython",
        "version": 3
      },
      "file_extension": ".py",
      "mimetype": "text/x-python",
      "name": "python",
      "nbconvert_exporter": "python",
      "pygments_lexer": "ipython3",
      "version": "3.12.0"
    },
    "colab": {
      "provenance": []
    }
  },
  "nbformat": 4,
  "nbformat_minor": 0
}