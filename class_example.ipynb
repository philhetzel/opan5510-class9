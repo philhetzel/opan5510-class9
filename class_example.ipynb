{
 "cells": [
  {
   "cell_type": "markdown",
   "metadata": {},
   "source": [
    "# Class Example: Understanding Joins in Polars\n",
    "\n",
    "This notebook demonstrates how to perform joins in Polars with practical examples."
   ]
  },
  {
   "cell_type": "code",
   "execution_count": null,
   "metadata": {},
   "outputs": [],
   "source": [
    "# Import necessary libraries\n",
    "import polars as pl\n",
    "from datetime import date\n",
    "\n",
    "# Set display options for better readability\n",
    "pl.Config.set_tbl_rows(20)\n",
    "pl.Config.set_fmt_str_lengths(50)\n",
    "\n",
    "print(\"Polars version:\", pl.__version__)\n",
    "print(\"Setup complete! Let's explore joins.\")"
   ]
  },
  {
   "cell_type": "markdown",
   "metadata": {},
   "source": [
    "## 1. Creating Sample Datasets\n",
    "\n",
    "Let's create realistic datasets to demonstrate joins. We'll simulate a retail business with customers, products, and orders."
   ]
  },
  {
   "cell_type": "code",
   "execution_count": null,
   "metadata": {},
   "outputs": [],
   "source": [
    "# Create customers dataset\n",
    "customers = pl.DataFrame({\n",
    "    \"customer_id\": [1, 2, 3, 4, 5, 6],\n",
    "    \"name\": [\"Alice Smith\", \"Bob Johnson\", \"Charlie Brown\", \"Diana Ross\", \"Eve Davis\", \"Frank Miller\"],\n",
    "    \"email\": [\"alice@email.com\", \"bob@email.com\", \"charlie@email.com\", \n",
    "              \"diana@email.com\", \"eve@email.com\", \"frank@email.com\"],\n",
    "    \"join_date\": [date(2023, 1, 15), date(2023, 2, 20), date(2023, 3, 10),\n",
    "                  date(2023, 4, 5), date(2023, 5, 12), date(2023, 6, 30)],\n",
    "    \"customer_type\": [\"Premium\", \"Standard\", \"Premium\", \"Standard\", \"Premium\", \"Standard\"]\n",
    "})\n",
    "\n",
    "print(\"Customers Table:\")\n",
    "print(customers)\n",
    "print(f\"\\nPrimary Key: customer_id (unique identifier for each customer)\")\n",
    "print(f\"Total customers: {len(customers)}\")"
   ]
  },
  {
   "cell_type": "code",
   "execution_count": null,
   "metadata": {},
   "outputs": [],
   "source": [
    "# Create products dataset\n",
    "products = pl.DataFrame({\n",
    "    \"product_id\": [\"P001\", \"P002\", \"P003\", \"P004\", \"P005\"],\n",
    "    \"product_name\": [\"Laptop\", \"Mouse\", \"Keyboard\", \"Monitor\", \"Headphones\"],\n",
    "    \"category\": [\"Electronics\", \"Accessories\", \"Accessories\", \"Electronics\", \"Accessories\"],\n",
    "    \"price\": [1200.00, 25.00, 80.00, 300.00, 150.00],\n",
    "    \"stock_quantity\": [50, 200, 150, 75, 100]\n",
    "})\n",
    "\n",
    "print(\"Products Table:\")\n",
    "print(products)\n",
    "print(f\"\\nPrimary Key: product_id (unique identifier for each product)\")\n",
    "print(f\"Total products: {len(products)}\")"
   ]
  },
  {
   "cell_type": "code",
   "execution_count": null,
   "metadata": {},
   "outputs": [],
   "source": [
    "# Create orders dataset (notice the foreign keys)\n",
    "orders = pl.DataFrame({\n",
    "    \"order_id\": [101, 102, 103, 104, 105, 106, 107, 108, 109, 110],\n",
    "    \"customer_id\": [1, 2, 1, 3, 4, 2, 5, 1, 3, 7],  # Note: customer_id 7 doesn't exist!\n",
    "    \"product_id\": [\"P001\", \"P002\", \"P003\", \"P001\", \"P004\", \"P005\", \"P002\", \"P004\", \"P006\", \"P001\"],  # Note: P006 doesn't exist!\n",
    "    \"order_date\": [date(2023, 7, 1), date(2023, 7, 2), date(2023, 7, 3), date(2023, 7, 4),\n",
    "                   date(2023, 7, 5), date(2023, 7, 6), date(2023, 7, 7), date(2023, 7, 8),\n",
    "                   date(2023, 7, 9), date(2023, 7, 10)],\n",
    "    \"quantity\": [1, 2, 1, 1, 2, 1, 3, 1, 1, 1],\n",
    "    \"total_amount\": [1200.00, 50.00, 80.00, 1200.00, 600.00, 150.00, 75.00, 300.00, 0.00, 1200.00]\n",
    "})\n",
    "\n",
    "print(\"Orders Table:\")\n",
    "print(orders)\n",
    "print(f\"\\nForeign Keys: customer_id (references customers), product_id (references products)\")\n",
    "print(f\"Total orders: {len(orders)}\")\n",
    "print(\"\\nNote: This dataset intentionally includes problematic data for demonstration!\")"
   ]
  },
  {
   "cell_type": "markdown",
   "metadata": {},
   "source": [
    "## 2. Understanding Join Keys\n",
    "\n",
    "Before joining, always examine your join keys!"
   ]
  },
  {
   "cell_type": "code",
   "execution_count": null,
   "metadata": {},
   "outputs": [],
   "source": [
    "# Check uniqueness of primary keys\n",
    "print(\"Checking Primary Keys:\")\n",
    "print(f\"Unique customer_ids: {customers['customer_id'].n_unique()} (should equal {len(customers)})\")\n",
    "print(f\"Unique product_ids: {products['product_id'].n_unique()} (should equal {len(products)})\")\n",
    "print(f\"Unique order_ids: {orders['order_id'].n_unique()} (should equal {len(orders)})\")\n",
    "\n",
    "print(\"\\nChecking Foreign Keys in Orders:\")\n",
    "print(f\"Unique customer_ids in orders: {orders['customer_id'].n_unique()}\")\n",
    "print(f\"Unique product_ids in orders: {orders['product_id'].n_unique()}\")"
   ]
  },
  {
   "cell_type": "code",
   "execution_count": null,
   "metadata": {},
   "outputs": [],
   "source": [
    "# Identify problematic data\n",
    "print(\"Checking for mismatched keys:\")\n",
    "\n",
    "# Customer IDs in orders but not in customers\n",
    "orders_customer_ids = set(orders[\"customer_id\"].unique().to_list())\n",
    "customers_ids = set(customers[\"customer_id\"].unique().to_list())\n",
    "orphan_customers = orders_customer_ids - customers_ids\n",
    "print(f\"\\nCustomer IDs in orders but not in customers table: {orphan_customers}\")\n",
    "\n",
    "# Product IDs in orders but not in products\n",
    "orders_product_ids = set(orders[\"product_id\"].unique().to_list())\n",
    "products_ids = set(products[\"product_id\"].unique().to_list())\n",
    "orphan_products = orders_product_ids - products_ids\n",
    "print(f\"Product IDs in orders but not in products table: {orphan_products}\")\n",
    "\n",
    "# Customers with no orders\n",
    "customers_no_orders = customers_ids - orders_customer_ids\n",
    "print(f\"\\nCustomer IDs with no orders: {customers_no_orders}\")"
   ]
  },
  {
   "cell_type": "markdown",
   "metadata": {},
   "source": [
    "## 3. Inner Join Example\n",
    "\n",
    "Inner join returns only matching records from both tables."
   ]
  },
  {
   "cell_type": "code",
   "execution_count": null,
   "metadata": {},
   "outputs": [],
   "source": [
    "# Inner join: Orders with Customer information\n",
    "orders_with_customers_inner = orders.join(\n",
    "    customers,\n",
    "    on=\"customer_id\",\n",
    "    how=\"inner\"\n",
    ")\n",
    "\n",
    "print(\"Inner Join: Orders + Customers\")\n",
    "print(orders_with_customers_inner)\n",
    "print(f\"\\nRows in result: {len(orders_with_customers_inner)}\")\n",
    "print(f\"Original orders: {len(orders)}\")\n",
    "print(f\"Lost rows: {len(orders) - len(orders_with_customers_inner)} (order with customer_id=7)\")"
   ]
  },
  {
   "cell_type": "code",
   "execution_count": null,
   "metadata": {},
   "outputs": [],
   "source": [
    "# Which orders were excluded?\n",
    "excluded_orders = orders.filter(\n",
    "    ~pl.col(\"order_id\").is_in(orders_with_customers_inner[\"order_id\"])\n",
    ")\n",
    "print(\"Orders excluded by inner join:\")\n",
    "print(excluded_orders)"
   ]
  },
  {
   "cell_type": "markdown",
   "metadata": {},
   "source": [
    "## 4. Left Join Example\n",
    "\n",
    "Left join keeps all records from the left table, adding nulls where no match exists."
   ]
  },
  {
   "cell_type": "code",
   "execution_count": null,
   "metadata": {},
   "outputs": [],
   "source": [
    "# Left join: Keep all orders, add customer info where available\n",
    "orders_with_customers_left = orders.join(\n",
    "    customers,\n",
    "    on=\"customer_id\",\n",
    "    how=\"left\"\n",
    ")\n",
    "\n",
    "print(\"Left Join: Orders + Customers\")\n",
    "print(orders_with_customers_left)\n",
    "print(f\"\\nRows in result: {len(orders_with_customers_left)} (same as original orders)\")\n",
    "print(\"\\nNotice the NULL values for customer_id=7!\")"
   ]
  },
  {
   "cell_type": "code",
   "execution_count": null,
   "metadata": {},
   "outputs": [],
   "source": [
    "# Find orders with no matching customer\n",
    "orders_no_customer = orders_with_customers_left.filter(\n",
    "    pl.col(\"name\").is_null()\n",
    ")\n",
    "print(\"Orders with no matching customer (after left join):\")\n",
    "print(orders_no_customer)"
   ]
  },
  {
   "cell_type": "code",
   "execution_count": null,
   "metadata": {},
   "outputs": [],
   "source": [
    "# Create a customer preferences table with duplicate customer_ids\n",
    "customer_preferences = pl.DataFrame({\n",
    "    \"customer_id\": [1, 1, 2, 3, 3, 3],  # Duplicates!\n",
    "    \"preference_type\": [\"email\", \"sms\", \"email\", \"email\", \"sms\", \"phone\"],\n",
    "    \"preference_value\": [\"weekly\", \"never\", \"daily\", \"weekly\", \"daily\", \"weekly\"]\n",
    "})\n",
    "\n",
    "print(\"Customer Preferences (with duplicates):\")\n",
    "print(customer_preferences)\n",
    "print(f\"\\nNotice customer_id appears multiple times!\")"
   ]
  },
  {
   "cell_type": "markdown",
   "metadata": {},
   "source": [
    "## 8. Multiple Joins\n",
    "\n",
    "Often you need to join multiple tables to get complete information."
   ]
  },
  {
   "cell_type": "code",
   "execution_count": null,
   "metadata": {},
   "outputs": [],
   "source": [
    "# Complete order information: Orders + Customers + Products\n",
    "complete_orders = (\n",
    "    orders\n",
    "    .join(customers, on=\"customer_id\", how=\"left\")\n",
    "    .join(products, on=\"product_id\", how=\"left\")\n",
    "    .select([\n",
    "        pl.col(\"order_id\"),\n",
    "        pl.col(\"order_date\"),\n",
    "        pl.col(\"customer_id\"),\n",
    "        pl.col(\"name\").alias(\"customer_name\"),\n",
    "        pl.col(\"customer_type\"),\n",
    "        pl.col(\"product_id\"),\n",
    "        pl.col(\"product_name\"),\n",
    "        pl.col(\"category\"),\n",
    "        pl.col(\"quantity\"),\n",
    "        pl.col(\"price\"),\n",
    "        pl.col(\"total_amount\")\n",
    "    ])\n",
    ")\n",
    "\n",
    "print(\"Complete Order Information (Multiple Joins):\")\n",
    "print(complete_orders)\n",
    "print(f\"\\nNotice the NULL values where customer_id=7 or product_id='P006'\")"
   ]
  },
  {
   "cell_type": "markdown",
   "metadata": {},
   "source": [
    "## 9. Validating Joins\n",
    "\n",
    "Always validate your joins to ensure correctness!"
   ]
  },
  {
   "cell_type": "code",
   "execution_count": null,
   "metadata": {},
   "outputs": [],
   "source": [
    "# Validation checks\n",
    "print(\"Join Validation:\")\n",
    "print(f\"Original orders: {len(orders)}\")\n",
    "print(f\"After joins: {len(complete_orders)}\")\n",
    "print(f\"Rows match: {len(orders) == len(complete_orders)}\")\n",
    "\n",
    "# Check for data quality issues\n",
    "print(\"\\nData Quality Issues:\")\n",
    "missing_customers = complete_orders.filter(pl.col(\"customer_name\").is_null()).select(\"order_id\", \"customer_id\")\n",
    "print(f\"Orders with missing customer info: {len(missing_customers)}\")\n",
    "if len(missing_customers) > 0:\n",
    "    print(missing_customers)\n",
    "\n",
    "missing_products = complete_orders.filter(pl.col(\"product_name\").is_null()).select(\"order_id\", \"product_id\")\n",
    "print(f\"\\nOrders with missing product info: {len(missing_products)}\")\n",
    "if len(missing_products) > 0:\n",
    "    print(missing_products)"
   ]
  },
  {
   "cell_type": "markdown",
   "metadata": {},
   "source": [
    "## 10. Business Analysis with Joins\n",
    "\n",
    "Now let's use joins to answer business questions."
   ]
  },
  {
   "cell_type": "code",
   "execution_count": null,
   "metadata": {},
   "outputs": [],
   "source": [
    "# Question 1: What is the total revenue by customer type?\n",
    "revenue_by_type = (\n",
    "    orders\n",
    "    .join(customers, on=\"customer_id\", how=\"inner\")\n",
    "    .group_by(\"customer_type\")\n",
    "    .agg([\n",
    "        pl.col(\"total_amount\").sum().alias(\"total_revenue\"),\n",
    "        pl.len().alias(\"order_count\"),\n",
    "        pl.col(\"customer_id\").n_unique().alias(\"unique_customers\")\n",
    "    ])\n",
    "    .sort(\"total_revenue\", descending=True)\n",
    ")\n",
    "\n",
    "print(\"Revenue by Customer Type:\")\n",
    "print(revenue_by_type)"
   ]
  },
  {
   "cell_type": "code",
   "execution_count": null,
   "metadata": {},
   "outputs": [],
   "source": [
    "# Question 2: Which products are ordered most by Premium customers?\n",
    "premium_product_analysis = (\n",
    "    orders\n",
    "    .join(customers.filter(pl.col(\"customer_type\") == \"Premium\"), on=\"customer_id\", how=\"inner\")\n",
    "    .join(products, on=\"product_id\", how=\"inner\")\n",
    "    .group_by([\"product_name\", \"category\"])\n",
    "    .agg([\n",
    "        pl.col(\"quantity\").sum().alias(\"total_quantity\"),\n",
    "        pl.len().alias(\"order_count\"),\n",
    "        pl.col(\"total_amount\").sum().alias(\"revenue\")\n",
    "    ])\n",
    "    .sort(\"revenue\", descending=True)\n",
    ")\n",
    "\n",
    "print(\"Products Popular with Premium Customers:\")\n",
    "print(premium_product_analysis)"
   ]
  },
  {
   "cell_type": "code",
   "execution_count": null,
   "metadata": {},
   "outputs": [],
   "source": [
    "# Question 3: Customer purchase summary (including those with no purchases)\n",
    "customer_summary = (\n",
    "    customers\n",
    "    .join(orders, on=\"customer_id\", how=\"left\")\n",
    "    .group_by([\"customer_id\", \"name\", \"customer_type\", \"join_date\"])\n",
    "    .agg([\n",
    "        pl.col(\"order_id\").count().alias(\"total_orders\"),\n",
    "        pl.col(\"total_amount\").sum().alias(\"total_spent\"),\n",
    "        pl.col(\"order_date\").min().alias(\"first_order\"),\n",
    "        pl.col(\"order_date\").max().alias(\"last_order\")\n",
    "    ])\n",
    "    .with_columns([\n",
    "        # Fill nulls for customers with no orders\n",
    "        pl.col(\"total_spent\").fill_null(0),\n",
    "        pl.col(\"total_orders\").fill_null(0)\n",
    "    ])\n",
    "    .sort(\"total_spent\", descending=True)\n",
    ")\n",
    "\n",
    "print(\"Customer Purchase Summary (including non-purchasers):\")\n",
    "print(customer_summary)"
   ]
  },
  {
   "cell_type": "markdown",
   "metadata": {},
   "source": [
    "## Summary\n",
    "\n",
    "Key takeaways from this lesson:\n",
    "\n",
    "1. **Always validate your join keys** before joining\n",
    "2. **Choose the correct join type** based on your business needs\n",
    "3. **Watch out for duplicate keys** that can cause row explosion\n",
    "4. **Check row counts** after joins to ensure correctness\n",
    "5. **Handle NULL values** appropriately in your analysis\n",
    "\n",
    "Practice these concepts in the lab exercise!"
   ]
  }
 ],
 "metadata": {
  "kernelspec": {
   "display_name": "Python 3",
   "language": "python",
   "name": "python3"
  },
  "language_info": {
   "codemirror_mode": {
    "name": "ipython",
    "version": 3
   },
   "file_extension": ".py",
   "mimetype": "text/x-python",
   "name": "python",
   "nbconvert_exporter": "python",
   "pygments_lexer": "ipython3",
   "version": "3.12.0"
  }
 },
 "nbformat": 4,
 "nbformat_minor": 4
}
